{
  "cells": [
    {
      "cell_type": "markdown",
      "metadata": {
        "id": "UZWjXSS0CdSq"
      },
      "source": [
        "### **Lab3 Hui Li**\n",
        "\n",
        "**Load Data**\n",
        "\n",
        "Original data is downloaded from https://github.com/csaw-hackml/CSAW-HackML-2020. \n",
        "The Data is manully uploaded to my google drive."
      ]
    },
    {
      "cell_type": "code",
      "execution_count": 1,
      "metadata": {
        "colab": {
          "base_uri": "https://localhost:8080/",
          "height": 0
        },
        "id": "_O9xAmwP8EZg",
        "outputId": "a43936dc-2aa4-439e-83c1-ff2aa79151a8"
      },
      "outputs": [
        {
          "output_type": "stream",
          "name": "stdout",
          "text": [
            "Mounted at /gdrive\n"
          ]
        }
      ],
      "source": [
        "from google.colab import drive \n",
        "drive.mount('/gdrive')"
      ]
    },
    {
      "cell_type": "code",
      "execution_count": 6,
      "metadata": {
        "id": "97N_20MiQCik"
      },
      "outputs": [],
      "source": [
        "import keras\n",
        "import keras.backend as K\n",
        "from keras import models\n",
        "from keras.models import Model\n",
        "from keras import initializers\n",
        "import tensorflow as tf\n",
        "import h5py\n",
        "import numpy as np\n",
        "import matplotlib.pyplot as plt\n",
        "import sys\n",
        "sys.path.append('/content/CSAW-HackML-2020')\n",
        "import architecture\n",
        "from architecture import Net\n",
        "from eval import data_loader\n",
        "from eval import data_preprocess\n"
      ]
    },
    {
      "cell_type": "markdown",
      "metadata": {
        "id": "_SlKATpaQbiS"
      },
      "source": [
        "**Load and process data**"
      ]
    },
    {
      "cell_type": "code",
      "execution_count": 7,
      "metadata": {
        "id": "S1AT5p4QQbCv",
        "colab": {
          "base_uri": "https://localhost:8080/",
          "height": 0
        },
        "outputId": "eaf0e571-2647-40f7-d232-ee0799a422c8"
      },
      "outputs": [
        {
          "output_type": "stream",
          "name": "stdout",
          "text": [
            "Number of classes in Validation dataset: 1283\n",
            "Number of classes in Test dataset: 256\n"
          ]
        }
      ],
      "source": [
        "x_val_cl, y_val_cl = data_loader('/content/CSAW-HackML-2020/lab3/data/cl/valid.h5')\n",
        "x_test_cl, y_test_cl = data_loader('/content/CSAW-HackML-2020/lab3/data/cl/test.h5')\n",
        "x_val_bd, y_val_bd = data_loader('/content/CSAW-HackML-2020/lab3/data/bd/bd_valid.h5')\n",
        "x_test_bd, y_test_bd = data_loader('/content/CSAW-HackML-2020/lab3/data/bd/bd_test.h5')\n",
        "# count how many classes\n",
        "num_class_val = len(np.unique(y_val_cl)) \n",
        "num_class_test = len(np.unique(x_test_cl)) \n",
        "print('Number of classes in Validation dataset:', num_class_val) \n",
        "print('Number of classes in Test dataset:', num_class_test)"
      ]
    },
    {
      "cell_type": "markdown",
      "metadata": {
        "id": "sl8WVhTmQrvD"
      },
      "source": [
        "**Load and Import Model**"
      ]
    },
    {
      "cell_type": "code",
      "execution_count": 8,
      "metadata": {
        "id": "GxnW0-mwQwtu",
        "colab": {
          "base_uri": "https://localhost:8080/",
          "height": 0
        },
        "outputId": "eff53ef1-7c38-468d-e02f-92d81dbc2a2d"
      },
      "outputs": [
        {
          "output_type": "stream",
          "name": "stdout",
          "text": [
            "Model: \"model_1\"\n",
            "__________________________________________________________________________________________________\n",
            " Layer (type)                   Output Shape         Param #     Connected to                     \n",
            "==================================================================================================\n",
            " input (InputLayer)             [(None, 55, 47, 3)]  0           []                               \n",
            "                                                                                                  \n",
            " conv_1 (Conv2D)                (None, 52, 44, 20)   980         ['input[0][0]']                  \n",
            "                                                                                                  \n",
            " pool_1 (MaxPooling2D)          (None, 26, 22, 20)   0           ['conv_1[0][0]']                 \n",
            "                                                                                                  \n",
            " conv_2 (Conv2D)                (None, 24, 20, 40)   7240        ['pool_1[0][0]']                 \n",
            "                                                                                                  \n",
            " pool_2 (MaxPooling2D)          (None, 12, 10, 40)   0           ['conv_2[0][0]']                 \n",
            "                                                                                                  \n",
            " conv_3 (Conv2D)                (None, 10, 8, 60)    21660       ['pool_2[0][0]']                 \n",
            "                                                                                                  \n",
            " pool_3 (MaxPooling2D)          (None, 5, 4, 60)     0           ['conv_3[0][0]']                 \n",
            "                                                                                                  \n",
            " conv_4 (Conv2D)                (None, 4, 3, 80)     19280       ['pool_3[0][0]']                 \n",
            "                                                                                                  \n",
            " flatten_1 (Flatten)            (None, 1200)         0           ['pool_3[0][0]']                 \n",
            "                                                                                                  \n",
            " flatten_2 (Flatten)            (None, 960)          0           ['conv_4[0][0]']                 \n",
            "                                                                                                  \n",
            " fc_1 (Dense)                   (None, 160)          192160      ['flatten_1[0][0]']              \n",
            "                                                                                                  \n",
            " fc_2 (Dense)                   (None, 160)          153760      ['flatten_2[0][0]']              \n",
            "                                                                                                  \n",
            " add_1 (Add)                    (None, 160)          0           ['fc_1[0][0]',                   \n",
            "                                                                  'fc_2[0][0]']                   \n",
            "                                                                                                  \n",
            " activation_1 (Activation)      (None, 160)          0           ['add_1[0][0]']                  \n",
            "                                                                                                  \n",
            " output (Dense)                 (None, 1283)         206563      ['activation_1[0][0]']           \n",
            "                                                                                                  \n",
            "==================================================================================================\n",
            "Total params: 601,643\n",
            "Trainable params: 601,643\n",
            "Non-trainable params: 0\n",
            "__________________________________________________________________________________________________\n"
          ]
        }
      ],
      "source": [
        "bd_model = keras.models.load_model('/content/CSAW-HackML-2020/lab3/models/bd_net.h5')\n",
        "K.clear_session()\n",
        "bd_model.summary()"
      ]
    },
    {
      "cell_type": "markdown",
      "source": [
        "Here we use the eval code from souce,to compute metrics on valid data before pruning:"
      ],
      "metadata": {
        "id": "LW2cO9lIVDdg"
      }
    },
    {
      "cell_type": "code",
      "execution_count": 9,
      "metadata": {
        "id": "xsY_gVBJQ52C"
      },
      "outputs": [],
      "source": [
        "#!python /content/CSAW-HackML-2020/lab3/eval.py /content/CSAW-HackML-2020/lab3/data/cl/valid.h5 /content/CSAW-HackML-2020/lab3/data/bd/bd_valid.h5 /content/CSAW-HackML-2020/lab3/models/bd_net.h5"
      ]
    },
    {
      "cell_type": "markdown",
      "metadata": {
        "id": "cBHQ7-jfGkfz"
      },
      "source": [
        "**Define the Goodnet Class**"
      ]
    },
    {
      "cell_type": "code",
      "execution_count": 10,
      "metadata": {
        "id": "R7H51SkvGe8X"
      },
      "outputs": [],
      "source": [
        "class GoodNet(Model):\n",
        "  def __init__(self, bd_model, bd_model_pruned):\n",
        "    super(GoodNet, self).__init__()\n",
        "    self.bd_model = bd_model\n",
        "    self.bd_model_pruned = bd_model_pruned\n",
        "\n",
        "  def predict(self, x):\n",
        "    bd_model_pred = np.argmax(self.bd_model.predict(x), axis=1)\n",
        "    bd_model_pruned_pred = np.argmax(self.bd_model_pruned.predict(x), axis=1)\n",
        "    pred = np.zeros(len(bd_model_pred))\n",
        "    pred[np.where(bd_model_pred==bd_model_pruned_pred)]=bd_model_pred[np.where(bd_model_pred==bd_model_pruned_pred)]\n",
        "    pred[np.where(bd_model_pred!=bd_model_pruned_pred)]=int(1282+1)\n",
        "    return pred"
      ]
    },
    {
      "cell_type": "markdown",
      "metadata": {
        "id": "-T-np6ldRAmG"
      },
      "source": [
        "**Prune the Model**\n",
        "\n",
        "Get the last pooling layer(pool3) and average activation values over the entire validation set: "
      ]
    },
    {
      "cell_type": "code",
      "execution_count": 11,
      "metadata": {
        "id": "jmQfp2M3RFOm"
      },
      "outputs": [],
      "source": [
        "pool_3 = Model(inputs=bd_model.input, outputs=bd_model.get_layer('pool_3').output)\n",
        "pool_3_output = np.mean(pool_3.predict(x_val_cl), axis=0)\n",
        "index_order = np.argsort(np.sum(pool_3_output, axis=(0, 1))) #sort in increasing order and return index"
      ]
    },
    {
      "cell_type": "markdown",
      "source": [
        "Here I copy the function of compute acc and eval goodnet from eval.py:"
      ],
      "metadata": {
        "id": "tTgBTed1XZNA"
      }
    },
    {
      "cell_type": "code",
      "execution_count": 12,
      "metadata": {
        "id": "4B1RzLCcRKhi"
      },
      "outputs": [],
      "source": [
        "def compute_acc(y, y_pred):\n",
        "  clean_accuracy = np.mean(np.equal(y_pred, y))*100\n",
        "  return clean_accuracy\n",
        "\n",
        "def evaluate_gd(gd_model, cl_x_test, cl_y_test, bd_x_test, bd_y_test):\n",
        "  cl_label_p = gd_model.predict(cl_x_test)\n",
        "  clean_accuracy = np.mean(np.equal(cl_label_p, cl_y_test))*100\n",
        "  bd_label_p = gd_model.predict(bd_x_test)\n",
        "  asr = np.mean(np.equal(bd_label_p, bd_y_test))*100\n",
        "  return clean_accuracy, asr"
      ]
    },
    {
      "cell_type": "code",
      "execution_count": 13,
      "metadata": {
        "id": "xRQNnE31RbiJ",
        "colab": {
          "base_uri": "https://localhost:8080/",
          "height": 0
        },
        "outputId": "e7db935c-f3dd-47fe-d449-43b2c46cc74f"
      },
      "outputs": [
        {
          "output_type": "stream",
          "name": "stdout",
          "text": [
            "Round: 1 val_cl_acc: 98.64899974019225 acc_drop: 0.0\n",
            "Clean Accuracy: 98.62042088854248 Attack Success Rate: 100.0\n",
            "Round: 2 val_cl_acc: 98.64899974019225 acc_drop: 0.0\n",
            "Clean Accuracy: 98.62042088854248 Attack Success Rate: 100.0\n",
            "Round: 3 val_cl_acc: 98.64899974019225 acc_drop: 0.0\n",
            "Clean Accuracy: 98.62042088854248 Attack Success Rate: 100.0\n",
            "Round: 4 val_cl_acc: 98.64899974019225 acc_drop: 0.0\n",
            "Clean Accuracy: 98.62042088854248 Attack Success Rate: 100.0\n",
            "Round: 5 val_cl_acc: 98.64899974019225 acc_drop: 0.0\n",
            "Clean Accuracy: 98.62042088854248 Attack Success Rate: 100.0\n",
            "Round: 6 val_cl_acc: 98.64899974019225 acc_drop: 0.0\n",
            "Clean Accuracy: 98.62042088854248 Attack Success Rate: 100.0\n",
            "Round: 7 val_cl_acc: 98.64899974019225 acc_drop: 0.0\n",
            "Clean Accuracy: 98.62042088854248 Attack Success Rate: 100.0\n",
            "Round: 8 val_cl_acc: 98.64899974019225 acc_drop: 0.0\n",
            "Clean Accuracy: 98.62042088854248 Attack Success Rate: 100.0\n",
            "Round: 9 val_cl_acc: 98.64899974019225 acc_drop: 0.0\n",
            "Clean Accuracy: 98.62042088854248 Attack Success Rate: 100.0\n",
            "Round: 10 val_cl_acc: 98.64899974019225 acc_drop: 0.0\n",
            "Clean Accuracy: 98.62042088854248 Attack Success Rate: 100.0\n",
            "Round: 11 val_cl_acc: 98.64899974019225 acc_drop: 0.0\n",
            "Clean Accuracy: 98.62042088854248 Attack Success Rate: 100.0\n",
            "Round: 12 val_cl_acc: 98.64899974019225 acc_drop: 0.0\n",
            "Clean Accuracy: 98.62042088854248 Attack Success Rate: 100.0\n",
            "Round: 13 val_cl_acc: 98.64899974019225 acc_drop: 0.0\n",
            "Clean Accuracy: 98.62042088854248 Attack Success Rate: 100.0\n",
            "Round: 14 val_cl_acc: 98.64899974019225 acc_drop: 0.0\n",
            "Clean Accuracy: 98.62042088854248 Attack Success Rate: 100.0\n",
            "Round: 15 val_cl_acc: 98.64899974019225 acc_drop: 0.0\n",
            "Clean Accuracy: 98.62042088854248 Attack Success Rate: 100.0\n",
            "Round: 16 val_cl_acc: 98.64899974019225 acc_drop: 0.0\n",
            "Clean Accuracy: 98.62042088854248 Attack Success Rate: 100.0\n",
            "Round: 17 val_cl_acc: 98.64899974019225 acc_drop: 0.0\n",
            "Clean Accuracy: 98.62042088854248 Attack Success Rate: 100.0\n",
            "Round: 18 val_cl_acc: 98.64899974019225 acc_drop: 0.0\n",
            "Clean Accuracy: 98.62042088854248 Attack Success Rate: 100.0\n",
            "Round: 19 val_cl_acc: 98.64899974019225 acc_drop: 0.0\n",
            "Clean Accuracy: 98.62042088854248 Attack Success Rate: 100.0\n",
            "Round: 20 val_cl_acc: 98.64899974019225 acc_drop: 0.0\n",
            "Clean Accuracy: 98.62042088854248 Attack Success Rate: 100.0\n",
            "Round: 21 val_cl_acc: 98.64899974019225 acc_drop: 0.0\n",
            "Clean Accuracy: 98.62042088854248 Attack Success Rate: 100.0\n",
            "Round: 22 val_cl_acc: 98.64899974019225 acc_drop: 0.0\n",
            "Clean Accuracy: 98.62042088854248 Attack Success Rate: 100.0\n",
            "Round: 23 val_cl_acc: 98.64899974019225 acc_drop: 0.0\n",
            "Clean Accuracy: 98.62042088854248 Attack Success Rate: 100.0\n",
            "Round: 24 val_cl_acc: 98.64899974019225 acc_drop: 0.0\n",
            "Clean Accuracy: 98.62042088854248 Attack Success Rate: 100.0\n",
            "Round: 25 val_cl_acc: 98.64899974019225 acc_drop: 0.0\n",
            "Clean Accuracy: 98.62042088854248 Attack Success Rate: 100.0\n",
            "Round: 26 val_cl_acc: 98.64899974019225 acc_drop: 0.0\n",
            "Clean Accuracy: 98.62042088854248 Attack Success Rate: 100.0\n",
            "Round: 27 val_cl_acc: 98.64899974019225 acc_drop: 0.0\n",
            "Clean Accuracy: 98.62042088854248 Attack Success Rate: 100.0\n",
            "Round: 28 val_cl_acc: 98.64899974019225 acc_drop: 0.0\n",
            "Clean Accuracy: 98.62042088854248 Attack Success Rate: 100.0\n",
            "Round: 29 val_cl_acc: 98.64899974019225 acc_drop: 0.0\n",
            "Clean Accuracy: 98.62042088854248 Attack Success Rate: 100.0\n",
            "Round: 30 val_cl_acc: 98.64899974019225 acc_drop: 0.0\n",
            "Clean Accuracy: 98.62042088854248 Attack Success Rate: 100.0\n",
            "Round: 31 val_cl_acc: 98.64899974019225 acc_drop: 0.0\n",
            "Clean Accuracy: 98.62042088854248 Attack Success Rate: 100.0\n",
            "Round: 32 val_cl_acc: 98.64899974019225 acc_drop: 0.0\n",
            "Clean Accuracy: 98.62042088854248 Attack Success Rate: 100.0\n",
            "Round: 33 val_cl_acc: 98.64899974019225 acc_drop: 0.0\n",
            "Clean Accuracy: 98.62042088854248 Attack Success Rate: 100.0\n",
            "Round: 34 val_cl_acc: 98.64033948211657 acc_drop: 0.0\n",
            "Clean Accuracy: 98.61262665627436 Attack Success Rate: 100.0\n",
            "Round: 35 val_cl_acc: 98.64033948211657 acc_drop: 0.0\n",
            "Clean Accuracy: 98.60483242400623 Attack Success Rate: 100.0\n",
            "Round: 36 val_cl_acc: 98.63167922404088 acc_drop: 0.0\n",
            "Clean Accuracy: 98.59703819173812 Attack Success Rate: 100.0\n",
            "Round: 37 val_cl_acc: 98.65765999826795 acc_drop: -0.0\n",
            "Clean Accuracy: 98.59703819173812 Attack Success Rate: 100.0\n",
            "Round: 38 val_cl_acc: 98.64899974019225 acc_drop: 0.0\n",
            "Clean Accuracy: 98.57365549493376 Attack Success Rate: 100.0\n",
            "Round: 39 val_cl_acc: 98.6056984498138 acc_drop: 0.0\n",
            "Clean Accuracy: 98.52689010132501 Attack Success Rate: 100.0\n",
            "Round: 40 val_cl_acc: 98.57105741751104 acc_drop: 0.1\n",
            "Clean Accuracy: 98.44115354637569 Attack Success Rate: 100.0\n",
            "Round: 41 val_cl_acc: 98.53641638520828 acc_drop: 0.1\n",
            "Clean Accuracy: 98.4099766173032 Attack Success Rate: 100.0\n",
            "Round: 42 val_cl_acc: 98.19000606218066 acc_drop: 0.5\n",
            "Clean Accuracy: 98.11379579111458 Attack Success Rate: 100.0\n",
            "Round: 43 val_cl_acc: 97.65307006148784 acc_drop: 1.0\n",
            "Clean Accuracy: 97.74746687451285 Attack Success Rate: 100.0\n",
            "Round: 44 val_cl_acc: 97.50584567420108 acc_drop: 1.1\n",
            "Clean Accuracy: 97.50584567420108 Attack Success Rate: 100.0\n"
          ]
        },
        {
          "output_type": "stream",
          "name": "stderr",
          "text": [
            "/usr/local/lib/python3.7/dist-packages/keras/engine/functional.py:1410: CustomMaskWarning: Custom mask layers require a config and must override get_config. When loading, the custom mask layer must be passed to the custom_objects argument.\n",
            "  layer_config = serialize_layer_fn(layer)\n"
          ]
        },
        {
          "output_type": "stream",
          "name": "stdout",
          "text": [
            "Round: 45 val_cl_acc: 95.75647354291158 acc_drop: 2.9\n",
            "Clean Accuracy: 95.74434918160561 Attack Success Rate: 100.0\n",
            "Round: 46 val_cl_acc: 95.20221702606739 acc_drop: 3.4\n",
            "Clean Accuracy: 95.34684333593141 Attack Success Rate: 99.97661730319564\n",
            "Round: 47 val_cl_acc: 94.7172425738287 acc_drop: 3.9\n",
            "Clean Accuracy: 94.90257209664848 Attack Success Rate: 99.98441153546376\n",
            "Round: 48 val_cl_acc: 92.09318437689443 acc_drop: 6.6\n",
            "Clean Accuracy: 92.1278254091972 Attack Success Rate: 99.98441153546376\n",
            "Round: 49 val_cl_acc: 91.49562656967177 acc_drop: 7.2\n",
            "Clean Accuracy: 91.58222915042869 Attack Success Rate: 99.98441153546376\n",
            "Round: 50 val_cl_acc: 91.01931237550879 acc_drop: 7.6\n",
            "Clean Accuracy: 91.13016367887764 Attack Success Rate: 99.97661730319564\n",
            "Round: 51 val_cl_acc: 89.17467740538669 acc_drop: 9.5\n",
            "Clean Accuracy: 89.68043647700702 Attack Success Rate: 80.6469212782541\n",
            "Round: 52 val_cl_acc: 84.43751623798389 acc_drop: 14.2\n",
            "Clean Accuracy: 84.3335931410756 Attack Success Rate: 77.20966484801247\n",
            "Round: 53 val_cl_acc: 76.48739932449988 acc_drop: 22.2\n",
            "Clean Accuracy: 76.16523772408418 Attack Success Rate: 36.26656274356976\n",
            "Round: 54 val_cl_acc: 54.8627349095003 acc_drop: 43.8\n",
            "Clean Accuracy: 54.67653936087296 Attack Success Rate: 6.96024941543258\n",
            "Round: 55 val_cl_acc: 27.08928726076037 acc_drop: 71.6\n",
            "Clean Accuracy: 27.069368667186282 Attack Success Rate: 0.4208885424785659\n",
            "Round: 56 val_cl_acc: 13.87373343725643 acc_drop: 84.8\n",
            "Clean Accuracy: 13.702260327357754 Attack Success Rate: 0.0\n",
            "Round: 57 val_cl_acc: 7.101411622066338 acc_drop: 91.5\n",
            "Clean Accuracy: 6.562743569758379 Attack Success Rate: 0.0\n",
            "Round: 58 val_cl_acc: 1.5501861955486274 acc_drop: 97.1\n",
            "Clean Accuracy: 1.5198752922837102 Attack Success Rate: 0.0\n",
            "Round: 59 val_cl_acc: 0.7188014202823244 acc_drop: 97.9\n",
            "Clean Accuracy: 0.646921278254092 Attack Success Rate: 0.0\n",
            "Round: 60 val_cl_acc: 0.0779423226812159 acc_drop: 98.6\n",
            "Clean Accuracy: 0.0701480904130943 Attack Success Rate: 0.0\n"
          ]
        }
      ],
      "source": [
        "bd_model = keras.models.load_model('/content/CSAW-HackML-2020/lab3/models/bd_net.h5')\n",
        "bd_model_pruned = keras.models.load_model('/content/CSAW-HackML-2020/lab3/models/bd_net.h5')\n",
        "\n",
        "# prune conv3 layer and reduce the pool3 layer channel\n",
        "conv_3_layer = bd_model_pruned.get_layer('conv_3')\n",
        "weight, bias = conv_3_layer.get_weights()\n",
        "round = 0\n",
        "clean_accuracy_list=[] \n",
        "attack_success_rate_list =[]\n",
        "\n",
        "goodnet = GoodNet(bd_model, bd_model_pruned)\n",
        "clean_accuracy_list.append(evaluate_gd(goodnet, x_test_cl, y_test_cl, x_test_bd, y_test_bd)[0])\n",
        "attack_success_rate_list.append(evaluate_gd(goodnet, x_test_cl, y_test_cl, x_test_bd, y_test_bd)[1])\n",
        "for index in index_order:\n",
        "  #prune\n",
        "  round+=1\n",
        "  weight[:, :, :, index] = 0\n",
        "  bias[index] = 0\n",
        "  conv_3_layer.set_weights([weight, bias])\n",
        "  y_val_cl_pred = np.argmax(bd_model_pruned.predict(x_val_cl), axis=1)\n",
        "  val_cl_acc = compute_acc(y_val_cl, y_val_cl_pred)\n",
        "  acc_diff = np.round(98.64899974019225 - val_cl_acc, 1) #98.64899974019225 is getting from the original evel.py\n",
        "  if acc_diff>=2:\n",
        "    bd_model_pruned.save('/content/CSAW-HackML-2020/lab3/models/bd_net_prune_'+'acc'+str(acc_diff)+'.h5')\n",
        "  print('Round:', round, 'val_cl_acc:', val_cl_acc, 'acc_drop:', acc_diff)\n",
        "\n",
        "  #compute metrics on test data\n",
        "  goodnet = GoodNet(bd_model, bd_model_pruned)\n",
        "  clean_accuracy, attack_success_rate = evaluate_gd(goodnet, x_test_cl, y_test_cl, x_test_bd, y_test_bd)\n",
        "  clean_accuracy_list.append(clean_accuracy)\n",
        "  attack_success_rate_list.append(attack_success_rate)\n",
        "  print('Clean Accuracy:', clean_accuracy, 'Attack Success Rate:', attack_success_rate)"
      ]
    },
    {
      "cell_type": "markdown",
      "metadata": {
        "id": "F9ssJ-_BRwlu"
      },
      "source": [
        "### **Result**\n",
        "\n",
        "Repaired networks for X={2%,4%,10%}."
      ]
    },
    {
      "cell_type": "code",
      "source": [
        "!git clone https://github.com/lihui199688/ML_Security_Lab3.git"
      ],
      "metadata": {
        "colab": {
          "base_uri": "https://localhost:8080/",
          "height": 0
        },
        "id": "SBKuG16knwLg",
        "outputId": "c4bceb17-6ca8-4e8e-97ed-a92d8b993f77"
      },
      "execution_count": 15,
      "outputs": [
        {
          "output_type": "stream",
          "name": "stdout",
          "text": [
            "Cloning into 'ML_cyber_lab3'...\n",
            "remote: Enumerating objects: 47, done.\u001b[K\n",
            "remote: Counting objects: 100% (47/47), done.\u001b[K\n",
            "remote: Compressing objects: 100% (41/41), done.\u001b[K\n",
            "remote: Total 47 (delta 11), reused 0 (delta 0), pack-reused 0\u001b[K\n",
            "Unpacking objects: 100% (47/47), done.\n"
          ]
        }
      ]
    },
    {
      "cell_type": "markdown",
      "source": [
        "**X=2%**\n",
        "\n"
      ],
      "metadata": {
        "id": "UgTrw4dhkQf4"
      }
    },
    {
      "cell_type": "code",
      "execution_count": 16,
      "metadata": {
        "id": "TmQz7k30MEDn",
        "colab": {
          "base_uri": "https://localhost:8080/",
          "height": 0
        },
        "outputId": "eb9829c2-4b05-47f2-a0e7-7d649566efd2"
      },
      "outputs": [
        {
          "output_type": "stream",
          "name": "stdout",
          "text": [
            "Clean Classification accuracy: 95.74434918160561\n",
            "Attack Success Rate: 100.0\n"
          ]
        }
      ],
      "source": [
        "bd_model = keras.models.load_model('/content/CSAW-HackML-2020/lab3/models/bd_net.h5')\n",
        "bd_model_pruned = keras.models.load_model('/content/ML_Security_Lab3/Model/bd_net_prune_acc2.9.h5')\n",
        "goodnet = GoodNet(bd_model, bd_model_pruned)\n",
        "pred_cl = goodnet.predict(x_test_cl)\n",
        "print('Clean Classification accuracy:', np.mean(np.equal(pred_cl, y_test_cl))*100)\n",
        "pred_bd = goodnet.predict(x_test_bd)\n",
        "print('Attack Success Rate:', np.mean(np.equal(pred_bd, y_test_bd))*100)"
      ]
    },
    {
      "cell_type": "markdown",
      "source": [
        "**X=4%**"
      ],
      "metadata": {
        "id": "jNfNG-_4kbBA"
      }
    },
    {
      "cell_type": "code",
      "execution_count": 17,
      "metadata": {
        "id": "bm0z_dW2MH8X",
        "colab": {
          "base_uri": "https://localhost:8080/",
          "height": 0
        },
        "outputId": "e41527b5-d5e7-4ef4-fdd3-0f6bca7d5cf6"
      },
      "outputs": [
        {
          "output_type": "stream",
          "name": "stdout",
          "text": [
            "Clean Classification accuracy: 92.1278254091972\n",
            "Attack Success Rate: 99.98441153546376\n"
          ]
        }
      ],
      "source": [
        "bd_model = keras.models.load_model('/content/CSAW-HackML-2020/lab3/models/bd_net.h5')\n",
        "bd_model_pruned = keras.models.load_model('/content/ML_Security_Lab3/Model/bd_net_prune_acc6.6.h5')\n",
        "goodnet = GoodNet(bd_model, bd_model_pruned)\n",
        "pred_cl = goodnet.predict(x_test_cl)\n",
        "print('Clean Classification accuracy:', np.mean(np.equal(pred_cl, y_test_cl))*100)\n",
        "pred_bd = goodnet.predict(x_test_bd)\n",
        "print('Attack Success Rate:', np.mean(np.equal(pred_bd, y_test_bd))*100)"
      ]
    },
    {
      "cell_type": "markdown",
      "source": [
        "**X=10%**"
      ],
      "metadata": {
        "id": "AKvYtJ5DkipP"
      }
    },
    {
      "cell_type": "code",
      "execution_count": 18,
      "metadata": {
        "id": "9LLepC86MK-W",
        "colab": {
          "base_uri": "https://localhost:8080/",
          "height": 0
        },
        "outputId": "c75d5bc8-7ba6-451f-f814-ac18e0357294"
      },
      "outputs": [
        {
          "output_type": "stream",
          "name": "stdout",
          "text": [
            "Clean Classification accuracy: 84.3335931410756\n",
            "Attack Success Rate: 77.20966484801247\n"
          ]
        }
      ],
      "source": [
        "bd_model = keras.models.load_model('/content/CSAW-HackML-2020/lab3/models/bd_net.h5')\n",
        "bd_model_pruned = keras.models.load_model('/content/ML_Security_Lab3/Model/bd_net_prune_acc14.2.h5')\n",
        "goodnet = GoodNet(bd_model, bd_model_pruned)\n",
        "pred_cl = goodnet.predict(x_test_cl)\n",
        "print('Clean Classification accuracy:', np.mean(np.equal(pred_cl, y_test_cl))*100)\n",
        "pred_bd = goodnet.predict(x_test_bd)\n",
        "print('Attack Success Rate:', np.mean(np.equal(pred_bd, y_test_bd))*100)"
      ]
    },
    {
      "cell_type": "markdown",
      "source": [
        "**X=30%**"
      ],
      "metadata": {
        "id": "wCag4IzEqtsH"
      }
    },
    {
      "cell_type": "code",
      "source": [
        "bd_model = keras.models.load_model('/content/CSAW-HackML-2020/lab3/models/bd_net.h5')\n",
        "bd_model_pruned = keras.models.load_model('/content/ML_Security_Lab3/Model/bd_net_prune_acc43.8.h5')\n",
        "goodnet = GoodNet(bd_model, bd_model_pruned)\n",
        "pred_cl = goodnet.predict(x_test_cl)\n",
        "print('Clean Classification accuracy:', np.mean(np.equal(pred_cl, y_test_cl))*100)\n",
        "pred_bd = goodnet.predict(x_test_bd)\n",
        "print('Attack Success Rate:', np.mean(np.equal(pred_bd, y_test_bd))*100)"
      ],
      "metadata": {
        "colab": {
          "base_uri": "https://localhost:8080/",
          "height": 0
        },
        "id": "UFKmNH6YqtND",
        "outputId": "6b70ea70-f39f-4fa8-f98f-92f0d4939ffd"
      },
      "execution_count": 30,
      "outputs": [
        {
          "output_type": "stream",
          "name": "stdout",
          "text": [
            "Clean Classification accuracy: 54.67653936087296\n",
            "Attack Success Rate: 6.96024941543258\n"
          ]
        }
      ]
    },
    {
      "cell_type": "markdown",
      "source": [
        "Plot the accuracy on clean test data and the attack success rate (on backdoored testdata) as a function of the fraction of channels pruned. "
      ],
      "metadata": {
        "id": "M4BWrAUOnfth"
      }
    },
    {
      "cell_type": "code",
      "execution_count": 29,
      "metadata": {
        "id": "N9XIho1zKrLQ",
        "colab": {
          "base_uri": "https://localhost:8080/",
          "height": 404
        },
        "outputId": "9d10e7b8-001b-4637-cf3b-6545a7e1ec9f"
      },
      "outputs": [
        {
          "output_type": "display_data",
          "data": {
            "image/png": "[encoded data removed]",
            "text/plain": [
              "<Figure size 576x432 with 1 Axes>"
            ]
          },
          "metadata": {
            "needs_background": "light"
          }
        }
      ],
      "source": [
        "plt.figure(figsize=(8,6))\n",
        "plt.plot(np.arange(0,61)/60, clean_accuracy_list, label='Clean Accuracy')\n",
        "plt.plot(np.arange(0,61)/60, attack_success_rate_list, label='Attack Success Rate')\n",
        "plt.title('Accuracy on clean test data and the Attack success rate vs The fraction of channels pruned')\n",
        "plt.legend()\n",
        "plt.xlabel('The fraction of channels pruned')\n",
        "plt.ylabel('%')\n",
        "plt.grid('on')\n"
      ]
    },
    {
      "cell_type": "markdown",
      "source": [
        "\n",
        "\n",
        "\n",
        "\n",
        "\n",
        "\n",
        "\n",
        "\n",
        "\n",
        "**GitHub Link**\n",
        "\n",
        "https://github.com/lihui199688/ML_Security_Lab3\n"
      ],
      "metadata": {
        "id": "Ftqlxq6xnZEf"
      }
    }
  ],
  "metadata": {
    "accelerator": "GPU",
    "colab": {
      "name": "Lab3_HuiLi.ipynb",
      "provenance": [],
      "machine_shape": "hm"
    },
    "kernelspec": {
      "display_name": "Python 3",
      "name": "python3"
    },
    "language_info": {
      "name": "python"
    }
  },
  "nbformat": 4,
  "nbformat_minor": 0
}